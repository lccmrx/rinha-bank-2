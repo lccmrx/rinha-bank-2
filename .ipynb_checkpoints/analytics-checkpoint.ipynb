{
 "cells": [
  {
   "cell_type": "code",
   "execution_count": 33,
   "id": "89f49146-47e7-4fda-8d5a-8fea9c984591",
   "metadata": {},
   "outputs": [],
   "source": [
    "import os\n",
    "import re"
   ]
  },
  {
   "cell_type": "code",
   "execution_count": 34,
   "id": "c8c05c1a-f390-421b-b62f-abc5877a7f01",
   "metadata": {},
   "outputs": [],
   "source": [
    "# Your regex pattern\n",
    "pattern = r\"api(\\d)\\-1.*\\|.*\\[(\\d)\\]\\[(.*)\\]\\[(\\d)\\]\\[(\\d)\\] (.*)\\: (.*)\"\n",
    "\n",
    "# Compiling the regex pattern\n",
    "compiled_pattern = re.compile(pattern)"
   ]
  },
  {
   "cell_type": "code",
   "execution_count": 35,
   "id": "48997976-7914-4b22-b02d-5081a6bc5391",
   "metadata": {},
   "outputs": [],
   "source": [
    "csv = open('server-analytics.csv', 'w')\n",
    "csv.write(f'api,request_seq,request_uuid,client_id,order,description,value\\n')\n",
    "\n",
    "with open('server.logs', 'rb') as f:\n",
    "    for line in f:\n",
    "        line = str(f.readline())\n",
    "\n",
    "        # Searching for the pattern in the string\n",
    "        match = compiled_pattern.search(line)\n",
    "\n",
    "        # Checking if a match was found and printing captured groups\n",
    "        if match:\n",
    "            captured_groups = match.groups()\n",
    "            csv.write(f'{captured_groups[0]},{captured_groups[1]},{captured_groups[2]},{captured_groups[3]},{captured_groups[4]},{captured_groups[5]},{captured_groups[6][:-3]}\\n')\n",
    "\n",
    "csv.close()"
   ]
  },
  {
   "cell_type": "code",
   "execution_count": 36,
   "id": "3108d341-6e9b-4b3d-8b77-164989c146cc",
   "metadata": {},
   "outputs": [],
   "source": [
    "import pandas as pd\n",
    "\n",
    "df = pd.read_csv('server-analytics.csv')"
   ]
  },
  {
   "cell_type": "code",
   "execution_count": 37,
   "id": "035eb65d-f114-4672-bbc1-c052c44078c9",
   "metadata": {},
   "outputs": [],
   "source": [
    "df = df.sort_values(by=['api', 'request_seq', 'request_uuid', 'order'])"
   ]
  },
  {
   "cell_type": "code",
   "execution_count": 38,
   "id": "4bbb42df-5863-44dc-8aff-4bf5f41b462d",
   "metadata": {},
   "outputs": [],
   "source": [
    "df.to_csv('server-analytics.csv', header=True, index=False)"
   ]
  },
  {
   "cell_type": "code",
   "execution_count": null,
   "id": "e8af6f13-a6a2-4e48-aa2a-feeef991817c",
   "metadata": {},
   "outputs": [],
   "source": []
  }
 ],
 "metadata": {
  "kernelspec": {
   "display_name": "Python 3 (ipykernel)",
   "language": "python",
   "name": "python3"
  },
  "language_info": {
   "codemirror_mode": {
    "name": "ipython",
    "version": 3
   },
   "file_extension": ".py",
   "mimetype": "text/x-python",
   "name": "python",
   "nbconvert_exporter": "python",
   "pygments_lexer": "ipython3",
   "version": "3.11.7"
  }
 },
 "nbformat": 4,
 "nbformat_minor": 5
}
