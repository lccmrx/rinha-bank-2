{
 "cells": [
  {
   "cell_type": "code",
   "execution_count": 1,
   "id": "89f49146-47e7-4fda-8d5a-8fea9c984591",
   "metadata": {},
   "outputs": [],
   "source": [
    "import os\n",
    "import re"
   ]
  },
  {
   "cell_type": "code",
   "execution_count": 2,
   "id": "c8c05c1a-f390-421b-b62f-abc5877a7f01",
   "metadata": {},
   "outputs": [],
   "source": [
    "# Your regex pattern\n",
    "pattern = r\"api(\\d)\\-1.*\\|.*\\[(\\d*)\\]\\[(.*)\\]\\[(\\d)\\]\\[(\\d)\\] (.*)\\: (.*)\"\n",
    "\n",
    "# Compiling the regex pattern\n",
    "compiled_pattern = re.compile(pattern)"
   ]
  },
  {
   "cell_type": "code",
   "execution_count": 3,
   "id": "48997976-7914-4b22-b02d-5081a6bc5391",
   "metadata": {},
   "outputs": [
    {
     "name": "stdout",
     "output_type": "stream",
     "text": [
      "api1-1  | [0][c85972af-2dc0-4860-8ac1-4a10106e5579][1][1] Time started: 2024-03-06 17:57:38.213333533 +0000 UTC m=+130.173333498\n",
      "\n",
      "api1-1  | [0][c85972af-2dc0-4860-8ac1-4a10106e5579][1][2] Payload: &{ClientID:0 Type:d Description:validacao Value:1 Timestamp:0001-01-01 00:00:00 +0000 UTC}\n",
      "\n",
      "api1-1  | [0][c85972af-2dc0-4860-8ac1-4a10106e5579][1][3] Time took to call procedure: 37.218449ms\n",
      "\n",
      "api1-1  | [0][c85972af-2dc0-4860-8ac1-4a10106e5579][1][4] Balance after transacting: -1\n",
      "\n",
      "api1-1  | [0][c85972af-2dc0-4860-8ac1-4a10106e5579][1][5] Time took to process request: 37518\n",
      "\n"
     ]
    }
   ],
   "source": [
    "csv = open('server-analytics.csv', 'w')\n",
    "csv.write(f'api,request_seq,request_uuid,client_id,order,description,value\\n')\n",
    "\n",
    "with open('server.logs', 'r') as f:\n",
    "    try:\n",
    "        for line in f:\n",
    "            # Searching for the pattern in the string\n",
    "            match = compiled_pattern.search(line)\n",
    "\n",
    "            # Checking if a match was found and printing captured groups\n",
    "        \n",
    "            if match:\n",
    "                captured_groups = match.groups()\n",
    "                csv.write(f'{captured_groups[0]},{captured_groups[1]},{captured_groups[2]},{captured_groups[3]},{captured_groups[4]},{captured_groups[5]},{captured_groups[6][:-3]}\\n')\n",
    "            else:\n",
    "                print(match, line)\n",
    "    except Exception as e:\n",
    "        print(e)\n",
    "        \n",
    "csv.close()"
   ]
  },
  {
   "cell_type": "code",
   "execution_count": 4,
   "id": "3108d341-6e9b-4b3d-8b77-164989c146cc",
   "metadata": {},
   "outputs": [],
   "source": [
    "import pandas as pd\n",
    "\n",
    "df = pd.read_csv('server-analytics.csv')"
   ]
  },
  {
   "cell_type": "code",
   "execution_count": 5,
   "id": "035eb65d-f114-4672-bbc1-c052c44078c9",
   "metadata": {},
   "outputs": [],
   "source": [
    "df = df.sort_values(by=['request_seq', 'api', 'order'])"
   ]
  },
  {
   "cell_type": "code",
   "execution_count": 6,
   "id": "4bbb42df-5863-44dc-8aff-4bf5f41b462d",
   "metadata": {},
   "outputs": [],
   "source": [
    "df.to_csv('server-analytics.out.csv', header=True, index=False)"
   ]
  },
  {
   "cell_type": "code",
   "execution_count": null,
   "id": "e8af6f13-a6a2-4e48-aa2a-feeef991817c",
   "metadata": {},
   "outputs": [],
   "source": []
  }
 ],
 "metadata": {
  "kernelspec": {
   "display_name": "Python 3 (ipykernel)",
   "language": "python",
   "name": "python3"
  },
  "language_info": {
   "codemirror_mode": {
    "name": "ipython",
    "version": 3
   },
   "file_extension": ".py",
   "mimetype": "text/x-python",
   "name": "python",
   "nbconvert_exporter": "python",
   "pygments_lexer": "ipython3",
   "version": "3.11.7"
  }
 },
 "nbformat": 4,
 "nbformat_minor": 5
}
